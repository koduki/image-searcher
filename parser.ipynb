{
 "cells": [
  {
   "cell_type": "code",
   "execution_count": 5,
   "metadata": {
    "collapsed": false
   },
   "outputs": [
    {
     "data": {
      "text/plain": [
       ":flatten"
      ]
     },
     "execution_count": 5,
     "metadata": {},
     "output_type": "execute_result"
    }
   ],
   "source": [
    "require 'nokogiri'\n",
    "require 'open-uri'\n",
    "\n",
    "def parse node, parent_path\n",
    "  cnts = {}\n",
    "  node.children\n",
    "    .find_all{|x| x.class.name == \"Nokogiri::XML::Element\"}\n",
    "    .map do |x|\n",
    "        cnts[x.name] = (cnts[x.name] == nil) ? 1 : cnts[x.name] + 1\n",
    "        path = parent_path + \"/\" + x.name + \"[#{cnts[x.name]}]\"\n",
    "        [x.name, x.children.size, path, parse(x, path)]\n",
    "    end\n",
    "end\n",
    "\n",
    "def extract_main(url1, url2)\n",
    "  html =  Nokogiri::HTML(open(url1))\n",
    "  nodes1 = parse html, \"\";\n",
    "\n",
    "  html =  Nokogiri::HTML(open(url2))\n",
    "  nodes2 = parse html, \"\";\n",
    "  \n",
    "  # body tag 以下を抽出\n",
    "  nodes = flatten(nodes1,3,[]).find_all{|xs| xs[2] =~ /body/} + flatten(nodes2,3,[]).find_all{|xs| xs[2] =~ /body/}\n",
    "\n",
    "  # 子要素数が異なるノードを抽出\n",
    "  diff_nodes = nodes.group_by{|xs| xs[2]}\n",
    "    .find_all{|xs|xs[1].size != 1}\n",
    "    .find_all{|xs|xs[1][0][1] != xs[1][1][1]}\n",
    "    .map{|xs| [xs[0], (xs[1][0][1] - xs[1][1][1]).abs]}\n",
    "\n",
    "  # メインコンテンツ(差分が最大のノード)を抽出\n",
    "  diff_nodes.max_by{|xs| xs[1]}\n",
    "end\n",
    "\n",
    "def find_images html, root_xpath\n",
    "  def f node, parent_path\n",
    "    cnts = {}\n",
    "    node.children\n",
    "      .find_all{|x| x.class.name == \"Nokogiri::XML::Element\"}\n",
    "      .map do |x|\n",
    "        cnts[x.name] = (cnts[x.name] == nil) ? 1 : cnts[x.name] + 1\n",
    "        path = parent_path + \"/\" + x.name + \"[#{cnts[x.name]}]\"\n",
    "        [x.name, path, x, f(x, path)]\n",
    "      end\n",
    "  end\n",
    "\n",
    "  flatten(f(html.at_xpath(root_xpath), root_xpath),3,[]).find_all{|x| x[0] == 'img'}\n",
    "end\n",
    "\n",
    "def flatten(nodes, len, r)\n",
    "  nodes.map{|n|\n",
    "    r << n[0..(len - 1)]\n",
    "    flatten(n[-1], len, r)\n",
    "  }\n",
    "  r\n",
    "end\n"
   ]
  },
  {
   "cell_type": "code",
   "execution_count": 6,
   "metadata": {
    "collapsed": false
   },
   "outputs": [
    {
     "name": "stdout",
     "output_type": "stream",
     "text": [
      "[{\"title\"=>\"マンガファンタスティック！\", \"url1\"=>\"http://manga-fantastic.net/kakegurui-twin/twin-4-2\", \"url2\"=>\"http://manga-fantastic.net/keijo/k-9-2\"}]\n",
      "extracting main contents... \n",
      "main-contents xpath: /html[1]/body[1]/div[1]/div[1]/div[1]/main[1]/article[1]/div[1]/div[3]\n",
      "finding images\n",
      "finish\n"
     ]
    },
    {
     "data": {
      "text/plain": [
       "[{:title=>\"マンガファンタスティック！\", :images=>[{:xpath=>\"/html[1]/body[1]/div[1]/div[1]/div[1]/main[1]/article[1]/div[1]/div[3]/p[1]/img[1]\", :src=>\"data:image/gif;base64,R0lGODlhAQABAAAAACH5BAEKAAEALAAAAAABAAEAAAICTAEAOw==\"}, {:xpath=>\"/html[1]/body[1]/div[1]/div[1]/div[1]/main[1]/article[1]/div[1]/div[3]/noscript[1]/img[1]\", :src=>\"http://manga-fantastic.net/wp-content/uploads/2017/07/No-0020-4-193x300.png\"}, {:xpath=>\"/html[1]/body[1]/div[1]/div[1]/div[1]/main[1]/article[1]/div[1]/div[3]/p[13]/img[1]\", :src=>\"data:image/gif;base64,R0lGODlhAQABAAAAACH5BAEKAAEALAAAAAABAAEAAAICTAEAOw==\"}, {:xpath=>\"/html[1]/body[1]/div[1]/div[1]/div[1]/main[1]/article[1]/div[1]/div[3]/noscript[2]/img[1]\", :src=>\"http://manga-fantastic.net/wp-content/uploads/2017/07/No-0021-4-192x300.png\"}, {:xpath=>\"/html[1]/body[1]/div[1]/div[1]/div[1]/main[1]/article[1]/div[1]/div[3]/p[19]/img[1]\", :src=>\"data:image/gif;base64,R0lGODlhAQABAAAAACH5BAEKAAEALAAAAAABAAEAAAICTAEAOw==\"}, {:xpath=>\"/html[1]/body[1]/div[1]/div[1]/div[1]/main[1]/article[1]/div[1]/div[3]/noscript[3]/img[1]\", :src=>\"http://manga-fantastic.net/wp-content/uploads/2017/07/No-0022-4.png\"}, {:xpath=>\"/html[1]/body[1]/div[1]/div[1]/div[1]/main[1]/article[1]/div[1]/div[3]/p[29]/img[1]\", :src=>\"data:image/gif;base64,R0lGODlhAQABAAAAACH5BAEKAAEALAAAAAABAAEAAAICTAEAOw==\"}, {:xpath=>\"/html[1]/body[1]/div[1]/div[1]/div[1]/main[1]/article[1]/div[1]/div[3]/noscript[4]/img[1]\", :src=>\"http://manga-fantastic.net/wp-content/uploads/2017/07/No-0023-4.png\"}, {:xpath=>\"/html[1]/body[1]/div[1]/div[1]/div[1]/main[1]/article[1]/div[1]/div[3]/p[37]/img[1]\", :src=>\"data:image/gif;base64,R0lGODlhAQABAAAAACH5BAEKAAEALAAAAAABAAEAAAICTAEAOw==\"}, {:xpath=>\"/html[1]/body[1]/div[1]/div[1]/div[1]/main[1]/article[1]/div[1]/div[3]/noscript[5]/img[1]\", :src=>\"http://manga-fantastic.net/wp-content/uploads/2017/07/No-0024-4-190x300.png\"}, {:xpath=>\"/html[1]/body[1]/div[1]/div[1]/div[1]/main[1]/article[1]/div[1]/div[3]/p[49]/img[1]\", :src=>\"data:image/gif;base64,R0lGODlhAQABAAAAACH5BAEKAAEALAAAAAABAAEAAAICTAEAOw==\"}, {:xpath=>\"/html[1]/body[1]/div[1]/div[1]/div[1]/main[1]/article[1]/div[1]/div[3]/noscript[6]/img[1]\", :src=>\"http://manga-fantastic.net/wp-content/uploads/2017/07/No-0025-3-195x300.png\"}, {:xpath=>\"/html[1]/body[1]/div[1]/div[1]/div[1]/main[1]/article[1]/div[1]/div[3]/p[57]/img[1]\", :src=>\"data:image/gif;base64,R0lGODlhAQABAAAAACH5BAEKAAEALAAAAAABAAEAAAICTAEAOw==\"}, {:xpath=>\"/html[1]/body[1]/div[1]/div[1]/div[1]/main[1]/article[1]/div[1]/div[3]/noscript[7]/img[1]\", :src=>\"http://manga-fantastic.net/wp-content/uploads/2017/07/No-0026-1.png\"}, {:xpath=>\"/html[1]/body[1]/div[1]/div[1]/div[1]/main[1]/article[1]/div[1]/div[3]/p[62]/img[1]\", :src=>\"data:image/gif;base64,R0lGODlhAQABAAAAACH5BAEKAAEALAAAAAABAAEAAAICTAEAOw==\"}, {:xpath=>\"/html[1]/body[1]/div[1]/div[1]/div[1]/main[1]/article[1]/div[1]/div[3]/noscript[8]/img[1]\", :src=>\"http://manga-fantastic.net/wp-content/uploads/2017/07/No-0027-2-243x300.png\"}, {:xpath=>\"/html[1]/body[1]/div[1]/div[1]/div[1]/main[1]/article[1]/div[1]/div[3]/p[73]/img[1]\", :src=>\"data:image/gif;base64,R0lGODlhAQABAAAAACH5BAEKAAEALAAAAAABAAEAAAICTAEAOw==\"}, {:xpath=>\"/html[1]/body[1]/div[1]/div[1]/div[1]/main[1]/article[1]/div[1]/div[3]/noscript[9]/img[1]\", :src=>\"http://manga-fantastic.net/wp-content/uploads/2017/07/No-0028-2-192x300.png\"}, {:xpath=>\"/html[1]/body[1]/div[1]/div[1]/div[1]/main[1]/article[1]/div[1]/div[3]/p[78]/img[1]\", :src=>\"data:image/gif;base64,R0lGODlhAQABAAAAACH5BAEKAAEALAAAAAABAAEAAAICTAEAOw==\"}, {:xpath=>\"/html[1]/body[1]/div[1]/div[1]/div[1]/main[1]/article[1]/div[1]/div[3]/noscript[10]/img[1]\", :src=>\"http://manga-fantastic.net/wp-content/uploads/2017/07/No-0029-2-193x300.png\"}, {:xpath=>\"/html[1]/body[1]/div[1]/div[1]/div[1]/main[1]/article[1]/div[1]/div[3]/p[91]/img[1]\", :src=>\"data:image/gif;base64,R0lGODlhAQABAAAAACH5BAEKAAEALAAAAAABAAEAAAICTAEAOw==\"}, {:xpath=>\"/html[1]/body[1]/div[1]/div[1]/div[1]/main[1]/article[1]/div[1]/div[3]/noscript[11]/img[1]\", :src=>\"http://manga-fantastic.net/wp-content/uploads/2017/07/No-0031-2-177x300.png\"}, {:xpath=>\"/html[1]/body[1]/div[1]/div[1]/div[1]/main[1]/article[1]/div[1]/div[3]/p[96]/img[1]\", :src=>\"data:image/gif;base64,R0lGODlhAQABAAAAACH5BAEKAAEALAAAAAABAAEAAAICTAEAOw==\"}, {:xpath=>\"/html[1]/body[1]/div[1]/div[1]/div[1]/main[1]/article[1]/div[1]/div[3]/noscript[12]/img[1]\", :src=>\"http://manga-fantastic.net/wp-content/uploads/2017/07/No-0032-1-194x300.png\"}, {:xpath=>\"/html[1]/body[1]/div[1]/div[1]/div[1]/main[1]/article[1]/div[1]/div[3]/p[108]/img[1]\", :src=>\"data:image/gif;base64,R0lGODlhAQABAAAAACH5BAEKAAEALAAAAAABAAEAAAICTAEAOw==\"}, {:xpath=>\"/html[1]/body[1]/div[1]/div[1]/div[1]/main[1]/article[1]/div[1]/div[3]/noscript[13]/img[1]\", :src=>\"http://manga-fantastic.net/wp-content/uploads/2017/07/No-0033-1.png\"}, {:xpath=>\"/html[1]/body[1]/div[1]/div[1]/div[1]/main[1]/article[1]/div[1]/div[3]/p[113]/img[1]\", :src=>\"data:image/gif;base64,R0lGODlhAQABAAAAACH5BAEKAAEALAAAAAABAAEAAAICTAEAOw==\"}, {:xpath=>\"/html[1]/body[1]/div[1]/div[1]/div[1]/main[1]/article[1]/div[1]/div[3]/noscript[14]/img[1]\", :src=>\"http://manga-fantastic.net/wp-content/uploads/2017/07/No-0034-1.png\"}, {:xpath=>\"/html[1]/body[1]/div[1]/div[1]/div[1]/main[1]/article[1]/div[1]/div[3]/div[1]/a[1]/img[1]\", :src=>\"data:image/gif;base64,R0lGODlhAQABAAAAACH5BAEKAAEALAAAAAABAAEAAAICTAEAOw==\"}, {:xpath=>\"/html[1]/body[1]/div[1]/div[1]/div[1]/main[1]/article[1]/div[1]/div[3]/div[1]/a[1]/noscript[1]/img[1]\", :src=>\"http://manga-fantastic.net/wp-content/uploads/2017/07/No-0009-3-100x100.png\"}]}]"
      ]
     },
     "execution_count": 6,
     "metadata": {},
     "output_type": "execute_result"
    }
   ],
   "source": [
    "require 'json'\n",
    "#open('input.txt', \"w\"){|f| f.puts json.to_json}\n",
    "json = JSON.parse(open('input.txt').read)\n",
    "p json\n",
    "json.map do |input|\n",
    "  # extract main contents\n",
    "  puts \"extracting main contents... \"\n",
    "  main_node = extract_main input[\"url1\"], input[\"url2\"]\n",
    "  puts \"main-contents xpath: \" + main_node[0]\n",
    "\n",
    "  # find images\n",
    "  puts \"finding images\"\n",
    "  html =  Nokogiri::HTML(open(input[\"url1\"]))\n",
    "  images = find_images(html, main_node[0]).map{|img|\n",
    "    {xpath:img[1], src:img[2].attribute(\"src\").value}\n",
    "  }\n",
    "  puts \"finish\"\n",
    "\n",
    "  {title:input[\"title\"], images:images}\n",
    "end"
   ]
  },
  {
   "cell_type": "code",
   "execution_count": null,
   "metadata": {
    "collapsed": false
   },
   "outputs": [],
   "source": []
  },
  {
   "cell_type": "code",
   "execution_count": null,
   "metadata": {
    "collapsed": true
   },
   "outputs": [],
   "source": []
  }
 ],
 "metadata": {
  "kernelspec": {
   "display_name": "Ruby 2.2.3",
   "language": "ruby",
   "name": "ruby"
  },
  "language_info": {
   "file_extension": ".rb",
   "mimetype": "application/x-ruby",
   "name": "ruby",
   "version": "2.2.3"
  }
 },
 "nbformat": 4,
 "nbformat_minor": 0
}
